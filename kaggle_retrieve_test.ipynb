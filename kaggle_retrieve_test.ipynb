{
  "cells": [
    {
      "cell_type": "markdown",
      "metadata": {},
      "source": [
        "# Test Retrieval on Kaggle with Existing Chroma DB\n",
        "\n",
        "This notebook loads a prebuilt Chroma DB (unzipped folder) from a Kaggle Input Dataset and runs retrieval using E5 encoder.\n"
      ]
    },
    {
      "cell_type": "code",
      "execution_count": null,
      "metadata": {
        "vscode": {
          "languageId": "plaintext"
        }
      },
      "outputs": [],
      "source": [
        "pip install --quiet chromadb transformers torch pandas numpy tqdm \"protobuf<5,>=3.20.3\"\n"
      ]
    },
    {
      "cell_type": "code",
      "execution_count": null,
      "metadata": {},
      "outputs": [],
      "source": [
        "from pathlib import Path\n",
        "import sys\n",
        "\n",
        "# Point to your Kaggle Input dataset root (contains the unzipped chroma folder)\n",
        "# Example: /kaggle/input/science-paper-qa-chroma\n",
        "INPUT_ROOT = Path(\"/kaggle/input/<your-chroma-dataset>\")\n",
        "DB_DIR = INPUT_ROOT / \"chroma_db\"  # adjust if your folder name differs\n",
        "\n",
        "# Add repo src to path if you also uploaded code as dataset\n",
        "SRC_ROOT = Path(\"/kaggle/input/<your-code-dataset>\") / \"src\"\n",
        "if SRC_ROOT.exists():\n",
        "    sys.path.insert(0, str(SRC_ROOT))\n",
        "\n",
        "print(\"DB_DIR:\", DB_DIR, DB_DIR.exists())\n",
        "print(\"SRC_ROOT:\", SRC_ROOT, SRC_ROOT.exists())\n"
      ]
    },
    {
      "cell_type": "code",
      "execution_count": null,
      "metadata": {},
      "outputs": [],
      "source": [
        "# Configure pipeline to point to the existing DB\n",
        "try:\n",
        "    from src.pipeline.config import paths\n",
        "    from src.pipeline.retrieve import ChromaRetriever\n",
        "except ModuleNotFoundError:\n",
        "    from pipeline.config import paths\n",
        "    from pipeline.retrieve import ChromaRetriever\n",
        "\n",
        "paths.chroma_persist_dir = str(DB_DIR)\n",
        "print(\"Using Chroma at:\", paths.chroma_persist_dir)\n"
      ]
    },
    {
      "cell_type": "code",
      "execution_count": null,
      "metadata": {},
      "outputs": [],
      "source": [
        "# Run a sample retrieval\n",
        "retriever = ChromaRetriever()\n",
        "query = \"What is the electroweak precision program?\"\n",
        "res = retriever.retrieve(query, top_k=20)\n",
        "len(res[\"hits\"]), res[\"hits\"][0][\"metadata\"], res[\"hits\"][0][\"dense_score\"]\n"
      ]
    },
    {
      "cell_type": "markdown",
      "metadata": {},
      "source": [
        "## Notes\n",
        "- Set `INPUT_ROOT` to your dataset path on Kaggle that contains the unzipped Chroma folder.\n",
        "- If you also upload the code as a dataset, set `SRC_ROOT` accordingly; otherwise, copy `src/` into working dir.\n",
        "- If protobuf errors appear, add to the install cell: `protobuf<5,>=3.20.3` (already included).\n",
        "- If no results, ensure DB folder structure is intact: it should be the same as when you zipped it.\n"
      ]
    }
  ],
  "metadata": {
    "language_info": {
      "name": "python"
    }
  },
  "nbformat": 4,
  "nbformat_minor": 2
}
