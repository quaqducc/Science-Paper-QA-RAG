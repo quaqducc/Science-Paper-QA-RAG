{
 "cells": [
  {
   "cell_type": "code",
   "execution_count": null,
   "id": "108bb9a1",
   "metadata": {},
   "outputs": [],
   "source": [
    "from openai import OpenAI\n",
    "from langchain_openai import ChatOpenAI\n",
    "\n",
    "open_ai_key = \"\"\n",
    "MODEL = 'gpt-4o-mini'\n",
    "\n",
    "llm = ChatOpenAI(model=MODEL, temperature=0.3, api_key=open_ai_key)"
   ]
  },
  {
   "cell_type": "code",
   "execution_count": null,
   "id": "68071aa2",
   "metadata": {},
   "outputs": [],
   "source": [
    "from datasets import Dataset\n",
    "\n",
    "import json\n",
    "\n",
    "with open('/root/ragas/data/filter_qa.json', 'r', encoding='utf-8') as f:\n",
    "    qa_data = json.load(f)\n",
    "\n",
    "with open('/root/ragas/data/answers_rag.json', 'r', encoding='utf-8') as f:\n",
    "    answers_data = json.load(f)\n",
    "\n",
    "with open('/root/ragas/data/retrieved_contexts_rag.json', 'r', encoding='utf-8') as f:\n",
    "    contexts_data = json.load(f)\n",
    "\n",
    "data_samples = {\n",
    "    'question': [],\n",
    "    'answer': [],\n",
    "    'contexts': [],\n",
    "    'ground_truth': []\n",
    "}\n",
    "\n",
    "for qa, answer, contexts in zip(qa_data, answers_data, contexts_data):\n",
    "    data_samples['question'].append(qa[0])\n",
    "    data_samples['ground_truth'].append(qa[1])\n",
    "    data_samples['answer'].append(answer)  \n",
    "    data_samples['contexts'].append([contexts]) \n",
    "\n",
    "\n",
    "print(json.dumps(data_samples, indent=2, ensure_ascii=False))\n",
    "\n",
    "dataset = Dataset.from_dict(data_samples)"
   ]
  },
  {
   "cell_type": "code",
   "execution_count": null,
   "id": "2230b38d",
   "metadata": {},
   "outputs": [],
   "source": [
    "import os\n",
    "os.environ[\"OPENAI_API_KEY\"] = \"\"\n",
    "\n",
    "from ragas import evaluate\n",
    "from ragas.metrics import (\n",
    "    answer_correctness,\n",
    "    context_precision,\n",
    "    context_recall,\n",
    ")\n",
    "\n",
    "metrics = [\n",
    "    answer_correctness,\n",
    "    context_precision,\n",
    "    context_recall,\n",
    "]\n",
    "\n",
    "from langchain_community.embeddings import HuggingFaceEmbeddings\n",
    "\n",
    "EMBED_MODEL = \"intfloat/e5-large-v2\"\n",
    "\n",
    "embeddings = HuggingFaceEmbeddings(\n",
    "    model_name=EMBED_MODEL,\n",
    "    model_kwargs={'device': 'cpu'}\n",
    ")\n",
    "\n",
    "results = evaluate(dataset, metrics, llm = llm, embeddings=embeddings)\n",
    "\n",
    "results"
   ]
  }
 ],
 "metadata": {
  "kernelspec": {
   "display_name": "thesis",
   "language": "python",
   "name": "python3"
  },
  "language_info": {
   "codemirror_mode": {
    "name": "ipython",
    "version": 3
   },
   "file_extension": ".py",
   "mimetype": "text/x-python",
   "name": "python",
   "nbconvert_exporter": "python",
   "pygments_lexer": "ipython3",
   "version": "3.10.0"
  }
 },
 "nbformat": 4,
 "nbformat_minor": 5
}
