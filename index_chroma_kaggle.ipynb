{
  "cells": [
    {
      "cell_type": "markdown",
      "metadata": {},
      "source": [
        "# Build Chroma DB on Kaggle (E5 doc embeddings + topic metadata)\n",
        "\n",
        "This notebook installs dependencies, loads your repo data from Kaggle Input, builds a Chroma collection at `/kaggle/working/chroma_db` using E5 doc embeddings, stores `top_topic` in metadata, and zips it for download.\n"
      ]
    },
    {
      "cell_type": "code",
      "execution_count": null,
      "metadata": {
        "vscode": {
          "languageId": "plaintext"
        }
      },
      "outputs": [],
      "source": [
        "pip install --quiet chromadb transformers torch pandas numpy tqdm gensim \"protobuf<5,>=3.20.3\"\n"
      ]
    },
    {
      "cell_type": "code",
      "execution_count": null,
      "metadata": {},
      "outputs": [],
      "source": [
        "from pathlib import Path\n",
        "import sys, os\n",
        "\n",
        "# Point to Kaggle Input dataset containing the repo\n",
        "REPO_ROOT = Path(\"/kaggle/input/<your-code-dataset>\")\n",
        "assert REPO_ROOT.exists(), \"Upload repo as Input Dataset and set REPO_ROOT accordingly\"\n",
        "\n",
        "SRC_DIR = REPO_ROOT / \"src\"\n",
        "if SRC_DIR.exists():\n",
        "    sys.path.insert(0, str(SRC_DIR))\n",
        "\n",
        "# Output dir for Chroma\n",
        "CHROMA_DIR = Path(\"/kaggle/working/chroma_db\")\n",
        "CHROMA_DIR.mkdir(parents=True, exist_ok=True)\n",
        "print(\"Chroma target:\", CHROMA_DIR)\n"
      ]
    },
    {
      "cell_type": "code",
      "execution_count": null,
      "metadata": {},
      "outputs": [],
      "source": [
        "# Ensure pipeline points to Kaggle working dir\n",
        "try:\n",
        "    from src.pipeline.config import paths, indexing_cfg\n",
        "    from src.pipeline.index_chroma import build_chroma_collection\n",
        "except ModuleNotFoundError:\n",
        "    from pipeline.config import paths, indexing_cfg\n",
        "    from pipeline.index_chroma import build_chroma_collection\n",
        "\n",
        "paths.abs_metadata_path = str(REPO_ROOT / \"data\" / \"abs_metadata.json\")\n",
        "paths.finetuned_questions_embeddings_csv = str(REPO_ROOT / \"src\" / \"citation_net\" / \"finetune_embedding_model\" / \"combined_doi_questions_embeddings.csv\")\n",
        "paths.graphsage_embeddings_csv = str(REPO_ROOT / \"src\" / \"citation_net\" / \"graphSAGE\" / \"graphsage_embeddings.csv\")\n",
        "paths.chroma_persist_dir = str(CHROMA_DIR)\n",
        "\n",
        "# Toggle to try PDF fulltext (not implemented in this notebook; placeholder for future)\n",
        "indexing_cfg.use_pdf_fulltext = False\n",
        "\n",
        "print(\"abs_metadata:\", paths.abs_metadata_path)\n",
        "print(\"questions CSV:\", paths.finetuned_questions_embeddings_csv)\n",
        "print(\"graph CSV:\", paths.graphsage_embeddings_csv)\n",
        "print(\"chroma_dir:\", paths.chroma_persist_dir)\n",
        "print(\"use_pdf_fulltext:\", indexing_cfg.use_pdf_fulltext)\n"
      ]
    },
    {
      "cell_type": "code",
      "execution_count": null,
      "metadata": {},
      "outputs": [],
      "source": [
        "# Sanity check inputs exist\n",
        "from pathlib import Path\n",
        "inputs = [\n",
        "    Path(paths.abs_metadata_path),\n",
        "    Path(paths.finetuned_questions_embeddings_csv),\n",
        "]\n",
        "for p in inputs:\n",
        "    print(p, p.exists())\n",
        "assert all(p.exists() for p in inputs), \"Missing required inputs. Upload the repo dataset correctly.\"\n",
        "\n"
      ]
    },
    {
      "cell_type": "code",
      "execution_count": null,
      "metadata": {},
      "outputs": [],
      "source": [
        "# Build DB (E5 doc embeddings + top_topic metadata)\n",
        "build_chroma_collection()\n"
      ]
    },
    {
      "cell_type": "code",
      "execution_count": null,
      "metadata": {},
      "outputs": [],
      "source": [
        "# Zip for download\n",
        "import shutil\n",
        "zip_path = Path(\"/kaggle/working/chroma_db.zip\")\n",
        "if zip_path.exists():\n",
        "    zip_path.unlink()\n",
        "shutil.make_archive(str(zip_path.with_suffix('')), 'zip', CHROMA_DIR)\n",
        "zip_path.exists(), zip_path\n"
      ]
    }
  ],
  "metadata": {
    "language_info": {
      "name": "python"
    }
  },
  "nbformat": 4,
  "nbformat_minor": 2
}
